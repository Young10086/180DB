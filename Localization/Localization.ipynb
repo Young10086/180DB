{
 "cells": [
  {
   "cell_type": "code",
   "execution_count": 25,
   "metadata": {},
   "outputs": [],
   "source": [
    "# Useful Resources\n",
    "# https://www.pyimagesearch.com/2016/02/08/opencv-shape-detection/\n",
    "# https://opencv-python-tutroals.readthedocs.io/en/latest/py_tutorials/py_imgproc/py_contours/py_contour_features/py_contour_features.html\n",
    "# https://www.learnopencv.com/blob-detection-using-opencv-python-c/\n",
    "# https://docs.opencv.org/2.4/modules/core/doc/operations_on_arrays.html\n",
    "# https://stackoverflow.com/questions/55614910/general-object-counting-python-opencv\n",
    "# https://www.pyimagesearch.com/2014/08/04/opencv-python-color-detection/\n",
    "# https://www.pyimagesearch.com/2017/01/02/rotate-images-correctly-with-opencv-and-python/\n",
    "# https://github.com/Ajay008/OpenCV/blob/master/Color%20Tracker/colorTracker.py\n",
    "\n",
    "#https://jponttuset.cat/solving-sudokus-like-a-pro-1/\n",
    "#https://stackoverflow.com/questions/51034209/detect-the-corners-of-a-grid-using-opencv\n",
    "#https://opencv-python-tutroals.readthedocs.io/en/latest/py_tutorials/py_imgproc/py_houghlines/py_houghlines.html\n",
    "#hough transform opencv\n",
    "#https://www.learnopencv.com/hough-transform-with-opencv-c-python/\n",
    "import numpy as np\n",
    "import cv2\n",
    "\n",
    "# test image sequence\n",
    "test_seq = [\"/Users/lostll/Desktop/180FinalProject/3bit.jpg\",\"/Users/lostll/Desktop/180FinalProject/1bit.jpg\",\"/Users/lostll/Desktop/180FinalProject/2bit.jpg\",\"/Users/lostll/Desktop/180FinalProject/4bit.jpg\"]\n",
    "\n",
    "# total device number\n",
    "DEV_NUM = 16\n",
    "\n",
    "# default size\n",
    "DEFAULT_SIZE = 600\n",
    "\n",
    "# Some HSV color bound\n",
    "HSV_bound = [([0, 0, 200], [100, 200, 255]),\n",
    "             ([100, 200, 50], [160, 255, 200])] # red + green\n",
    "\n",
    "G_bound = [([80, 180, 50], [160, 255, 200])]\n",
    "R_bound = [([0, 0, 200], [100, 200, 255])]\n",
    "\n",
    "NE = [1, 1]\n",
    "NW = [-1, 1]\n",
    "SE = [1, -1]\n",
    "SW = [-1, -1]"
   ]
  },
  {
   "cell_type": "code",
   "execution_count": 26,
   "metadata": {},
   "outputs": [],
   "source": [
    "# Take an image and filter according to Boundry.\n",
    "def color_filter(frame, bound):\n",
    "    mask = cv2.inRange(frame, np.array([0, 0, 0]), np.array([0, 0, 0]))\n",
    "    for (lower, upper) in bound:\n",
    "        lower = np.array(lower)\n",
    "        upper = np.array(upper)\n",
    "        # create NumPy arrays from the boundaries\n",
    "        mask += cv2.inRange(frame, lower, upper)\n",
    "    bright = cv2.add(frame,np.array([100.0]))\n",
    "    output = cv2.bitwise_and(bright, bright, mask = mask)\n",
    "    return output"
   ]
  },
  {
   "cell_type": "code",
   "execution_count": 27,
   "metadata": {},
   "outputs": [
    {
     "data": {
      "text/plain": [
       "True"
      ]
     },
     "execution_count": 27,
     "metadata": {},
     "output_type": "execute_result"
    }
   ],
   "source": [
    "# Testcode for func color_filter\n",
    "test_image = cv2.imread(\"/Users/lostll/Desktop/180FinalProject/init.jpg\")\n",
    "#test_image = cv2.GaussianBlur(test_image, (9, 9), 0)\n",
    "ftd_image = color_filter(test_image, HSV_bound)\n",
    "\n",
    "# testing\n",
    "#image_blur = cv2.GaussianBlur(ftd_image, (5, 5), 0)\n",
    "#image_gray = cv2.cvtColor(image_blur, cv2.COLOR_BGR2GRAY)\n",
    "#image_edged = cv2.Canny(image_gray, 100, 200)\n",
    "#image_edged = cv2.dilate(image_edged, None, iterations=1)\n",
    "#image_edged = cv2.erode(image_edged, None, iterations=1)\n",
    "#image_edged = cv2.GaussianBlur(image_gray, (13, 13), 0)\n",
    "#image_edged = cv2.bitwise_not(image_edged)\n",
    "\n",
    "#lines = cv2.HoughLines(image_edged,1,np.pi/180,200)\n",
    "#print(lines)\n",
    "\n",
    "#for rho,theta in lines[0]:\n",
    "#    a = np.cos(theta)\n",
    "#    b = np.sin(theta)\n",
    "#    x0 = a*rho\n",
    "#    y0 = b*rho\n",
    "#    x1 = int(x0 + 1000*(-b))\n",
    "#    y1 = int(y0 + 1000*(a))\n",
    "#    x2 = int(x0 - 1000*(-b))\n",
    "#    y2 = int(y0 - 1000*(a))\n",
    "\n",
    "#    cv2.line(image_edged,(x1,y1),(x2,y2),(0,0,255),2)\n",
    "\n",
    "cv2.imwrite('/Users/lostll/Desktop/180FinalProject/180test/filtertest.jpg', ftd_image) "
   ]
  },
  {
   "cell_type": "code",
   "execution_count": 28,
   "metadata": {},
   "outputs": [],
   "source": [
    "def roi_center(img, size = DEFAULT_SIZE):\n",
    "    image_blur = cv2.GaussianBlur(img, (3, 3), 0)\n",
    "    image_gray = cv2.cvtColor(image_blur, cv2.COLOR_BGR2GRAY)\n",
    "    image_edged = cv2.Canny(image_gray, 100, 200)\n",
    "    image_edged = cv2.dilate(image_edged, None, iterations=1)\n",
    "    image_edged = cv2.erode(image_edged, None, iterations=1)\n",
    "    image_edged = cv2.GaussianBlur(image_gray, (21, 21), 0)\n",
    "    image_edged = cv2.bitwise_not(image_edged)\n",
    "    params = cv2.SimpleBlobDetector_Params()\n",
    "    # Change thresholds\n",
    "    params.minThreshold = 0;\n",
    "    params.maxThreshold = 255;\n",
    "    # Filter by Area.\n",
    "    params.filterByArea = True\n",
    "    params.minArea = size\n",
    "    # Filter by Circularity\n",
    "    params.filterByCircularity = True\n",
    "    params.minCircularity = 0\n",
    "    # Filter by Convexity\n",
    "    params.filterByConvexity = True\n",
    "    params.minConvexity = 0.87\n",
    "    # Filter by Inertia\n",
    "    params.filterByInertia = True\n",
    "    params.minInertiaRatio = 0.01\n",
    "    # Create a detector with the parameters\n",
    "    ver = (cv2.__version__).split('.')\n",
    "    if int(ver[0]) < 3 :\n",
    "        detector = cv2.SimpleBlobDetector(params)\n",
    "    else:\n",
    "        detector = cv2.SimpleBlobDetector_create(params)\n",
    "    # Test Code\n",
    "    cv2.imwrite('/Users/lostll/Desktop/180FinalProject/180test/now1.jpg', image_edged) \n",
    "    # gives a set of coordinates of device centers\n",
    "    key_points = detector.detect(image_edged)\n",
    "    return key_points"
   ]
  },
  {
   "cell_type": "code",
   "execution_count": 29,
   "metadata": {
    "scrolled": false
   },
   "outputs": [
    {
     "name": "stdout",
     "output_type": "stream",
     "text": [
      "16\n"
     ]
    },
    {
     "data": {
      "text/plain": [
       "True"
      ]
     },
     "execution_count": 29,
     "metadata": {},
     "output_type": "execute_result"
    }
   ],
   "source": [
    "# Test code for func roi_center\n",
    "key_points = roi_center(ftd_image)\n",
    "count = 0\n",
    "for i in key_points:\n",
    "    count = count + 1\n",
    "print(len(key_points))\n",
    "\n",
    "im_with_keypoints = cv2.drawKeypoints(ftd_image, key_points, np.array([]), (0, 0, 255),\n",
    "                                      cv2.DRAW_MATCHES_FLAGS_DRAW_RICH_KEYPOINTS)\n",
    "cv2.imwrite('/Users/lostll/Desktop/180FinalProject/180test/now.jpg', im_with_keypoints) "
   ]
  },
  {
   "cell_type": "code",
   "execution_count": 30,
   "metadata": {},
   "outputs": [],
   "source": [
    "def init(dev_num = DEV_NUM, size = 600):\n",
    "\n",
    "    # change to call funcs later\n",
    "    init_img = cv2.imread(\"/Users/lostll/Desktop/180FinalProject/init.jpg\")\n",
    "    ftd_img = color_filter(init_img, HSV_bound)\n",
    "    key_points = roi_center(ftd_img, size)\n",
    "    \n",
    "    det = False\n",
    "    if len(key_points) == dev_num:\n",
    "        det = True\n",
    "\n",
    "    return key_points, det"
   ]
  },
  {
   "cell_type": "code",
   "execution_count": 31,
   "metadata": {
    "scrolled": true
   },
   "outputs": [
    {
     "name": "stdout",
     "output_type": "stream",
     "text": [
      "[<KeyPoint 0x11c45e510>, <KeyPoint 0x11c45e450>, <KeyPoint 0x11c45e540>, <KeyPoint 0x11c45e5a0>, <KeyPoint 0x11c45e570>, <KeyPoint 0x11c45e180>, <KeyPoint 0x11c45e8a0>, <KeyPoint 0x11c45ecc0>, <KeyPoint 0x11c45e1b0>, <KeyPoint 0x11c45e960>, <KeyPoint 0x11c45e810>, <KeyPoint 0x11c45e6f0>, <KeyPoint 0x11c45eae0>, <KeyPoint 0x11c45eb10>, <KeyPoint 0x11c45eb40>, <KeyPoint 0x11c45e7e0>]\n"
     ]
    }
   ],
   "source": [
    "[roi, det] = init()\n",
    "if det == False:\n",
    "    print(\"Some Device Missing\")\n",
    "    roi = []\n",
    "print(roi)"
   ]
  },
  {
   "cell_type": "code",
   "execution_count": 32,
   "metadata": {},
   "outputs": [],
   "source": [
    "def find_nearest(cor, cor_list):\n",
    "    nearest = cor\n",
    "    len = 99999999\n",
    "    for i in cor_list:\n",
    "        new_len = abs(cor.pt[0] - i.pt[0]) * abs(cor.pt[0] - i.pt[0]) + abs(cor.pt[1] - i.pt[1]) * abs(cor.pt[1] - i.pt[1])\n",
    "        if new_len < len:\n",
    "            nearest = i\n",
    "            len = new_len\n",
    "    return nearest"
   ]
  },
  {
   "cell_type": "code",
   "execution_count": 33,
   "metadata": {},
   "outputs": [],
   "source": [
    "def ori_grid(img, dev_center, sgn_bound, default_ori):\n",
    "    \n",
    "    ori = {}    \n",
    "    ori_ftd_image = color_filter(img, sgn_bound)\n",
    "    ori_key_points = roi_center(ori_ftd_image, 150)\n",
    "    \n",
    "    im_with_keypoints = cv2.drawKeypoints(ori_ftd_image, ori_key_points, np.array([]), (0, 0, 255),\n",
    "                                      cv2.DRAW_MATCHES_FLAGS_DRAW_RICH_KEYPOINTS)\n",
    "    cv2.imwrite('/Users/lostll/Desktop/180FinalProject/180test/now.jpg', im_with_keypoints) \n",
    "    \n",
    "    for i in ori_key_points:\n",
    "        dir_center = find_nearest(i, dev_center)\n",
    "        if (dir_center.pt[0] - i.pt[0]) * default_ori[0] + (dir_center.pt[1] - i.pt[1]) * default_ori[1] > 0:\n",
    "            ori[dir_center] = 1\n",
    "        else:\n",
    "            ori[dir_center] = 0\n",
    "\n",
    "    return ori"
   ]
  },
  {
   "cell_type": "code",
   "execution_count": 34,
   "metadata": {},
   "outputs": [
    {
     "name": "stdout",
     "output_type": "stream",
     "text": [
      "{<KeyPoint 0x11c45eae0>: 1, <KeyPoint 0x11c45e6f0>: 1, <KeyPoint 0x11c45e7e0>: 1, <KeyPoint 0x11c45e450>: 1, <KeyPoint 0x11c45e8a0>: 1, <KeyPoint 0x11c45e510>: 1, <KeyPoint 0x11c45ecc0>: 1, <KeyPoint 0x11c45e960>: 1, <KeyPoint 0x11c45e5a0>: 1, <KeyPoint 0x11c45e1b0>: 1, <KeyPoint 0x11c45e540>: 1, <KeyPoint 0x11c45e570>: 1, <KeyPoint 0x11c45e810>: 1, <KeyPoint 0x11c45e180>: 1, <KeyPoint 0x11c45eb10>: 1, <KeyPoint 0x11c45eb40>: 1}\n"
     ]
    }
   ],
   "source": [
    "print(ori_grid(test_image, roi, G_bound, NW))"
   ]
  },
  {
   "cell_type": "code",
   "execution_count": 35,
   "metadata": {},
   "outputs": [],
   "source": [
    "import math\n",
    "\n",
    "def localization(roi_center_l, dev_num):\n",
    "\n",
    "    dev_ide = {}\n",
    "    for j in roi_center_l:\n",
    "            dev_ide[j] = 0\n",
    "            \n",
    "    num_bit = math.ceil(math.log2(dev_num))\n",
    "    \n",
    "    for i in range(num_bit):\n",
    "        # call device num N to show  ( N >> (num_bit - i) ) ^ 1 to get img\n",
    "        ori_test_image = cv2.imread(test_seq[i])\n",
    "        ori_test_image = cv2.GaussianBlur(ori_test_image, (9, 9), 0)\n",
    "        ori_test = ori_grid(ori_test_image, roi_center_l, G_bound, NW)\n",
    "        \n",
    "        for j in roi_center_l:\n",
    "            dev_ide[j] = dev_ide[j] << 1\n",
    "            dev_ide[j] += ori_test[j]\n",
    "\n",
    "    return dev_ide"
   ]
  },
  {
   "cell_type": "code",
   "execution_count": 36,
   "metadata": {},
   "outputs": [
    {
     "data": {
      "text/plain": [
       "True"
      ]
     },
     "execution_count": 36,
     "metadata": {},
     "output_type": "execute_result"
    }
   ],
   "source": [
    "dev_id = localization(roi, DEV_NUM)\n",
    "font = cv2.FONT_HERSHEY_SIMPLEX\n",
    "fontScale = 1\n",
    "fontColor = (255,255,255)\n",
    "lineType = 2\n",
    "\n",
    "final = test_image\n",
    "\n",
    "for i in roi:\n",
    "    bottomLeftCornerOfText = (math.floor(i.pt[0]),math.floor(i.pt[1]))\n",
    "    cv2.putText(final, str(dev_id[i]) , bottomLeftCornerOfText, font, fontScale,fontColor,lineType)\n",
    "    \n",
    "cv2.imwrite('/Users/lostll/Desktop/180FinalProject/180test/localization.jpg', final) "
   ]
  }
 ],
 "metadata": {
  "kernelspec": {
   "display_name": "Python 3",
   "language": "python",
   "name": "python3"
  },
  "language_info": {
   "codemirror_mode": {
    "name": "ipython",
    "version": 3
   },
   "file_extension": ".py",
   "mimetype": "text/x-python",
   "name": "python",
   "nbconvert_exporter": "python",
   "pygments_lexer": "ipython3",
   "version": "3.7.3"
  }
 },
 "nbformat": 4,
 "nbformat_minor": 2
}
